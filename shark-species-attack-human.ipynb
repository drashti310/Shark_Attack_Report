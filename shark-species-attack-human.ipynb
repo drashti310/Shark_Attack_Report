{
 "cells": [
  {
   "cell_type": "code",
   "execution_count": 1,
   "id": "ca727206",
   "metadata": {
    "execution": {
     "iopub.execute_input": "2021-07-28T05:27:31.385976Z",
     "iopub.status.busy": "2021-07-28T05:27:31.385311Z",
     "iopub.status.idle": "2021-07-28T05:27:31.822923Z",
     "shell.execute_reply": "2021-07-28T05:27:31.822309Z",
     "shell.execute_reply.started": "2021-07-28T05:27:04.596495Z"
    },
    "papermill": {
     "duration": 0.463175,
     "end_time": "2021-07-28T05:27:31.823152",
     "exception": false,
     "start_time": "2021-07-28T05:27:31.359977",
     "status": "completed"
    },
    "tags": []
   },
   "outputs": [],
   "source": [
    "import os\n",
    "import numpy as np\n",
    "import pandas as pd\n",
    "import random\n",
    "import folium\n",
    "from folium import plugins"
   ]
  },
  {
   "cell_type": "code",
   "execution_count": 2,
   "id": "6449d292",
   "metadata": {
    "execution": {
     "iopub.execute_input": "2021-07-28T05:27:31.855895Z",
     "iopub.status.busy": "2021-07-28T05:27:31.855281Z",
     "iopub.status.idle": "2021-07-28T05:27:32.050256Z",
     "shell.execute_reply": "2021-07-28T05:27:32.050724Z",
     "shell.execute_reply.started": "2021-07-28T05:27:04.605822Z"
    },
    "papermill": {
     "duration": 0.212643,
     "end_time": "2021-07-28T05:27:32.050905",
     "exception": false,
     "start_time": "2021-07-28T05:27:31.838262",
     "status": "completed"
    },
    "tags": []
   },
   "outputs": [
    {
     "data": {
      "text/html": [
       "<div>\n",
       "<style scoped>\n",
       "    .dataframe tbody tr th:only-of-type {\n",
       "        vertical-align: middle;\n",
       "    }\n",
       "\n",
       "    .dataframe tbody tr th {\n",
       "        vertical-align: top;\n",
       "    }\n",
       "\n",
       "    .dataframe thead th {\n",
       "        text-align: right;\n",
       "    }\n",
       "</style>\n",
       "<table border=\"1\" class=\"dataframe\">\n",
       "  <thead>\n",
       "    <tr style=\"text-align: right;\">\n",
       "      <th></th>\n",
       "      <th>0</th>\n",
       "      <th>1</th>\n",
       "    </tr>\n",
       "  </thead>\n",
       "  <tbody>\n",
       "    <tr>\n",
       "      <th>Case Number</th>\n",
       "      <td>2018.06.25</td>\n",
       "      <td>2018.06.18</td>\n",
       "    </tr>\n",
       "    <tr>\n",
       "      <th>Date</th>\n",
       "      <td>25-Jun-2018</td>\n",
       "      <td>18-Jun-2018</td>\n",
       "    </tr>\n",
       "    <tr>\n",
       "      <th>Year</th>\n",
       "      <td>2018.0</td>\n",
       "      <td>2018.0</td>\n",
       "    </tr>\n",
       "    <tr>\n",
       "      <th>Type</th>\n",
       "      <td>Boating</td>\n",
       "      <td>Unprovoked</td>\n",
       "    </tr>\n",
       "    <tr>\n",
       "      <th>Country</th>\n",
       "      <td>USA</td>\n",
       "      <td>USA</td>\n",
       "    </tr>\n",
       "    <tr>\n",
       "      <th>Area</th>\n",
       "      <td>California</td>\n",
       "      <td>Georgia</td>\n",
       "    </tr>\n",
       "    <tr>\n",
       "      <th>Location</th>\n",
       "      <td>Oceanside, San Diego County</td>\n",
       "      <td>St. Simon Island, Glynn County</td>\n",
       "    </tr>\n",
       "    <tr>\n",
       "      <th>Activity</th>\n",
       "      <td>Paddling</td>\n",
       "      <td>Standing</td>\n",
       "    </tr>\n",
       "    <tr>\n",
       "      <th>Name</th>\n",
       "      <td>Julie Wolfe</td>\n",
       "      <td>Adyson�McNeely</td>\n",
       "    </tr>\n",
       "    <tr>\n",
       "      <th>Sex</th>\n",
       "      <td>F</td>\n",
       "      <td>F</td>\n",
       "    </tr>\n",
       "    <tr>\n",
       "      <th>Age</th>\n",
       "      <td>57</td>\n",
       "      <td>11</td>\n",
       "    </tr>\n",
       "    <tr>\n",
       "      <th>Injury</th>\n",
       "      <td>No injury to occupant, outrigger canoe and pad...</td>\n",
       "      <td>Minor injury to left thigh</td>\n",
       "    </tr>\n",
       "    <tr>\n",
       "      <th>Fatal (Y/N)</th>\n",
       "      <td>N</td>\n",
       "      <td>N</td>\n",
       "    </tr>\n",
       "    <tr>\n",
       "      <th>Time</th>\n",
       "      <td>18h00</td>\n",
       "      <td>14h00  -15h00</td>\n",
       "    </tr>\n",
       "    <tr>\n",
       "      <th>Species</th>\n",
       "      <td>White shark</td>\n",
       "      <td>NaN</td>\n",
       "    </tr>\n",
       "    <tr>\n",
       "      <th>Investigator or Source</th>\n",
       "      <td>R. Collier, GSAF</td>\n",
       "      <td>K.McMurray, TrackingSharks.com</td>\n",
       "    </tr>\n",
       "    <tr>\n",
       "      <th>pdf</th>\n",
       "      <td>2018.06.25-Wolfe.pdf</td>\n",
       "      <td>2018.06.18-McNeely.pdf</td>\n",
       "    </tr>\n",
       "    <tr>\n",
       "      <th>href formula</th>\n",
       "      <td>http://sharkattackfile.net/spreadsheets/pdf_di...</td>\n",
       "      <td>http://sharkattackfile.net/spreadsheets/pdf_di...</td>\n",
       "    </tr>\n",
       "    <tr>\n",
       "      <th>href</th>\n",
       "      <td>http://sharkattackfile.net/spreadsheets/pdf_di...</td>\n",
       "      <td>http://sharkattackfile.net/spreadsheets/pdf_di...</td>\n",
       "    </tr>\n",
       "    <tr>\n",
       "      <th>Case Number.1</th>\n",
       "      <td>2018.06.25</td>\n",
       "      <td>2018.06.18</td>\n",
       "    </tr>\n",
       "    <tr>\n",
       "      <th>Case Number.2</th>\n",
       "      <td>2018.06.25</td>\n",
       "      <td>2018.06.18</td>\n",
       "    </tr>\n",
       "    <tr>\n",
       "      <th>original order</th>\n",
       "      <td>6303.0</td>\n",
       "      <td>6302.0</td>\n",
       "    </tr>\n",
       "    <tr>\n",
       "      <th>Unnamed: 22</th>\n",
       "      <td>NaN</td>\n",
       "      <td>NaN</td>\n",
       "    </tr>\n",
       "    <tr>\n",
       "      <th>Unnamed: 23</th>\n",
       "      <td>NaN</td>\n",
       "      <td>NaN</td>\n",
       "    </tr>\n",
       "  </tbody>\n",
       "</table>\n",
       "</div>"
      ],
      "text/plain": [
       "                                                                        0  \\\n",
       "Case Number                                                    2018.06.25   \n",
       "Date                                                          25-Jun-2018   \n",
       "Year                                                               2018.0   \n",
       "Type                                                              Boating   \n",
       "Country                                                               USA   \n",
       "Area                                                           California   \n",
       "Location                                      Oceanside, San Diego County   \n",
       "Activity                                                         Paddling   \n",
       "Name                                                          Julie Wolfe   \n",
       "Sex                                                                     F   \n",
       "Age                                                                    57   \n",
       "Injury                  No injury to occupant, outrigger canoe and pad...   \n",
       "Fatal (Y/N)                                                             N   \n",
       "Time                                                                18h00   \n",
       "Species                                                       White shark   \n",
       "Investigator or Source                                   R. Collier, GSAF   \n",
       "pdf                                                  2018.06.25-Wolfe.pdf   \n",
       "href formula            http://sharkattackfile.net/spreadsheets/pdf_di...   \n",
       "href                    http://sharkattackfile.net/spreadsheets/pdf_di...   \n",
       "Case Number.1                                                  2018.06.25   \n",
       "Case Number.2                                                  2018.06.25   \n",
       "original order                                                     6303.0   \n",
       "Unnamed: 22                                                           NaN   \n",
       "Unnamed: 23                                                           NaN   \n",
       "\n",
       "                                                                        1  \n",
       "Case Number                                                    2018.06.18  \n",
       "Date                                                          18-Jun-2018  \n",
       "Year                                                               2018.0  \n",
       "Type                                                           Unprovoked  \n",
       "Country                                                               USA  \n",
       "Area                                                              Georgia  \n",
       "Location                                   St. Simon Island, Glynn County  \n",
       "Activity                                                         Standing  \n",
       "Name                                                      Adyson�McNeely   \n",
       "Sex                                                                     F  \n",
       "Age                                                                    11  \n",
       "Injury                                         Minor injury to left thigh  \n",
       "Fatal (Y/N)                                                             N  \n",
       "Time                                                        14h00  -15h00  \n",
       "Species                                                               NaN  \n",
       "Investigator or Source                     K.McMurray, TrackingSharks.com  \n",
       "pdf                                                2018.06.18-McNeely.pdf  \n",
       "href formula            http://sharkattackfile.net/spreadsheets/pdf_di...  \n",
       "href                    http://sharkattackfile.net/spreadsheets/pdf_di...  \n",
       "Case Number.1                                                  2018.06.18  \n",
       "Case Number.2                                                  2018.06.18  \n",
       "original order                                                     6302.0  \n",
       "Unnamed: 22                                                           NaN  \n",
       "Unnamed: 23                                                           NaN  "
      ]
     },
     "execution_count": 2,
     "metadata": {},
     "output_type": "execute_result"
    }
   ],
   "source": [
    "data0=pd.read_csv('../input/shark-attack-dataset/attacks.csv')\n",
    "data0[0:2].T"
   ]
  },
  {
   "cell_type": "code",
   "execution_count": 3,
   "id": "36f1fd27",
   "metadata": {
    "execution": {
     "iopub.execute_input": "2021-07-28T05:27:32.084594Z",
     "iopub.status.busy": "2021-07-28T05:27:32.083689Z",
     "iopub.status.idle": "2021-07-28T05:27:32.089168Z",
     "shell.execute_reply": "2021-07-28T05:27:32.088659Z",
     "shell.execute_reply.started": "2021-07-28T05:27:04.785924Z"
    },
    "papermill": {
     "duration": 0.024514,
     "end_time": "2021-07-28T05:27:32.089316",
     "exception": false,
     "start_time": "2021-07-28T05:27:32.064802",
     "status": "completed"
    },
    "tags": []
   },
   "outputs": [
    {
     "name": "stdout",
     "output_type": "stream",
     "text": [
      "['Case Number', 'Date', 'Year', 'Type', 'Country', 'Area', 'Location', 'Activity', 'Name', 'Sex ', 'Age', 'Injury', 'Fatal (Y/N)', 'Time', 'Species ', 'Investigator or Source', 'pdf', 'href formula', 'href', 'Case Number.1', 'Case Number.2', 'original order', 'Unnamed: 22', 'Unnamed: 23']\n"
     ]
    }
   ],
   "source": [
    "print(data0.columns.tolist())"
   ]
  },
  {
   "cell_type": "code",
   "execution_count": 4,
   "id": "15199940",
   "metadata": {
    "execution": {
     "iopub.execute_input": "2021-07-28T05:27:32.135386Z",
     "iopub.status.busy": "2021-07-28T05:27:32.134703Z",
     "iopub.status.idle": "2021-07-28T05:27:32.147661Z",
     "shell.execute_reply": "2021-07-28T05:27:32.148123Z",
     "shell.execute_reply.started": "2021-07-28T05:27:04.795778Z"
    },
    "papermill": {
     "duration": 0.041354,
     "end_time": "2021-07-28T05:27:32.148313",
     "exception": false,
     "start_time": "2021-07-28T05:27:32.106959",
     "status": "completed"
    },
    "tags": []
   },
   "outputs": [
    {
     "data": {
      "text/html": [
       "<div>\n",
       "<style scoped>\n",
       "    .dataframe tbody tr th:only-of-type {\n",
       "        vertical-align: middle;\n",
       "    }\n",
       "\n",
       "    .dataframe tbody tr th {\n",
       "        vertical-align: top;\n",
       "    }\n",
       "\n",
       "    .dataframe thead th {\n",
       "        text-align: right;\n",
       "    }\n",
       "</style>\n",
       "<table border=\"1\" class=\"dataframe\">\n",
       "  <thead>\n",
       "    <tr style=\"text-align: right;\">\n",
       "      <th></th>\n",
       "      <th>0</th>\n",
       "      <th>1</th>\n",
       "    </tr>\n",
       "  </thead>\n",
       "  <tbody>\n",
       "    <tr>\n",
       "      <th>Year</th>\n",
       "      <td>2018.0</td>\n",
       "      <td>2018.0</td>\n",
       "    </tr>\n",
       "    <tr>\n",
       "      <th>Type</th>\n",
       "      <td>Boating</td>\n",
       "      <td>Unprovoked</td>\n",
       "    </tr>\n",
       "    <tr>\n",
       "      <th>Country</th>\n",
       "      <td>USA</td>\n",
       "      <td>USA</td>\n",
       "    </tr>\n",
       "    <tr>\n",
       "      <th>Area</th>\n",
       "      <td>California</td>\n",
       "      <td>Georgia</td>\n",
       "    </tr>\n",
       "    <tr>\n",
       "      <th>Location</th>\n",
       "      <td>Oceanside, San Diego County</td>\n",
       "      <td>St. Simon Island, Glynn County</td>\n",
       "    </tr>\n",
       "    <tr>\n",
       "      <th>Activity</th>\n",
       "      <td>Paddling</td>\n",
       "      <td>Standing</td>\n",
       "    </tr>\n",
       "    <tr>\n",
       "      <th>Name</th>\n",
       "      <td>Julie Wolfe</td>\n",
       "      <td>Adyson�McNeely</td>\n",
       "    </tr>\n",
       "    <tr>\n",
       "      <th>Sex</th>\n",
       "      <td>F</td>\n",
       "      <td>F</td>\n",
       "    </tr>\n",
       "    <tr>\n",
       "      <th>Age</th>\n",
       "      <td>57</td>\n",
       "      <td>11</td>\n",
       "    </tr>\n",
       "    <tr>\n",
       "      <th>Injury</th>\n",
       "      <td>No injury to occupant, outrigger canoe and pad...</td>\n",
       "      <td>Minor injury to left thigh</td>\n",
       "    </tr>\n",
       "    <tr>\n",
       "      <th>Fatal (Y/N)</th>\n",
       "      <td>N</td>\n",
       "      <td>N</td>\n",
       "    </tr>\n",
       "    <tr>\n",
       "      <th>Time</th>\n",
       "      <td>18h00</td>\n",
       "      <td>14h00  -15h00</td>\n",
       "    </tr>\n",
       "    <tr>\n",
       "      <th>Species</th>\n",
       "      <td>White shark</td>\n",
       "      <td>NaN</td>\n",
       "    </tr>\n",
       "  </tbody>\n",
       "</table>\n",
       "</div>"
      ],
      "text/plain": [
       "                                                             0  \\\n",
       "Year                                                    2018.0   \n",
       "Type                                                   Boating   \n",
       "Country                                                    USA   \n",
       "Area                                                California   \n",
       "Location                           Oceanside, San Diego County   \n",
       "Activity                                              Paddling   \n",
       "Name                                               Julie Wolfe   \n",
       "Sex                                                          F   \n",
       "Age                                                         57   \n",
       "Injury       No injury to occupant, outrigger canoe and pad...   \n",
       "Fatal (Y/N)                                                  N   \n",
       "Time                                                     18h00   \n",
       "Species                                            White shark   \n",
       "\n",
       "                                          1  \n",
       "Year                                 2018.0  \n",
       "Type                             Unprovoked  \n",
       "Country                                 USA  \n",
       "Area                                Georgia  \n",
       "Location     St. Simon Island, Glynn County  \n",
       "Activity                           Standing  \n",
       "Name                        Adyson�McNeely   \n",
       "Sex                                       F  \n",
       "Age                                      11  \n",
       "Injury           Minor injury to left thigh  \n",
       "Fatal (Y/N)                               N  \n",
       "Time                          14h00  -15h00  \n",
       "Species                                 NaN  "
      ]
     },
     "execution_count": 4,
     "metadata": {},
     "output_type": "execute_result"
    }
   ],
   "source": [
    "data1=data0.loc[0:6301]\n",
    "data1=data1.drop(['Unnamed: 22', 'Unnamed: 23'],axis=1)\n",
    "data2=data1[['Year', 'Type', 'Country', 'Area', 'Location', 'Activity', 'Name', 'Sex ', 'Age', 'Injury', 'Fatal (Y/N)', 'Time', 'Species ', ]]\n",
    "data2[0:2].T"
   ]
  },
  {
   "cell_type": "code",
   "execution_count": 5,
   "id": "15baccf2",
   "metadata": {
    "execution": {
     "iopub.execute_input": "2021-07-28T05:27:32.181574Z",
     "iopub.status.busy": "2021-07-28T05:27:32.180900Z",
     "iopub.status.idle": "2021-07-28T05:27:32.204463Z",
     "shell.execute_reply": "2021-07-28T05:27:32.205712Z",
     "shell.execute_reply.started": "2021-07-28T05:27:04.831737Z"
    },
    "papermill": {
     "duration": 0.043669,
     "end_time": "2021-07-28T05:27:32.206365",
     "exception": false,
     "start_time": "2021-07-28T05:27:32.162696",
     "status": "completed"
    },
    "tags": []
   },
   "outputs": [
    {
     "data": {
      "text/html": [
       "<div>\n",
       "<style scoped>\n",
       "    .dataframe tbody tr th:only-of-type {\n",
       "        vertical-align: middle;\n",
       "    }\n",
       "\n",
       "    .dataframe tbody tr th {\n",
       "        vertical-align: top;\n",
       "    }\n",
       "\n",
       "    .dataframe thead th {\n",
       "        text-align: right;\n",
       "    }\n",
       "</style>\n",
       "<table border=\"1\" class=\"dataframe\">\n",
       "  <thead>\n",
       "    <tr style=\"text-align: right;\">\n",
       "      <th></th>\n",
       "      <th>0</th>\n",
       "      <th>1</th>\n",
       "    </tr>\n",
       "  </thead>\n",
       "  <tbody>\n",
       "    <tr>\n",
       "      <th>Year</th>\n",
       "      <td>2018.0</td>\n",
       "      <td>2018.0</td>\n",
       "    </tr>\n",
       "    <tr>\n",
       "      <th>Type</th>\n",
       "      <td>Boating</td>\n",
       "      <td>Unprovoked</td>\n",
       "    </tr>\n",
       "    <tr>\n",
       "      <th>Country</th>\n",
       "      <td>USA</td>\n",
       "      <td>USA</td>\n",
       "    </tr>\n",
       "    <tr>\n",
       "      <th>Area</th>\n",
       "      <td>California</td>\n",
       "      <td>Georgia</td>\n",
       "    </tr>\n",
       "    <tr>\n",
       "      <th>Location</th>\n",
       "      <td>Oceanside, San Diego County</td>\n",
       "      <td>St. Simon Island, Glynn County</td>\n",
       "    </tr>\n",
       "    <tr>\n",
       "      <th>Activity</th>\n",
       "      <td>Paddling</td>\n",
       "      <td>Standing</td>\n",
       "    </tr>\n",
       "    <tr>\n",
       "      <th>Name</th>\n",
       "      <td>Julie Wolfe</td>\n",
       "      <td>Adyson�McNeely</td>\n",
       "    </tr>\n",
       "    <tr>\n",
       "      <th>Sex</th>\n",
       "      <td>F</td>\n",
       "      <td>F</td>\n",
       "    </tr>\n",
       "    <tr>\n",
       "      <th>Age</th>\n",
       "      <td>57</td>\n",
       "      <td>11</td>\n",
       "    </tr>\n",
       "    <tr>\n",
       "      <th>Injury</th>\n",
       "      <td>No injury to occupant, outrigger canoe and pad...</td>\n",
       "      <td>Minor injury to left thigh</td>\n",
       "    </tr>\n",
       "    <tr>\n",
       "      <th>Fatal (Y/N)</th>\n",
       "      <td>N</td>\n",
       "      <td>N</td>\n",
       "    </tr>\n",
       "    <tr>\n",
       "      <th>Time</th>\n",
       "      <td>18h00</td>\n",
       "      <td>14h00  -15h00</td>\n",
       "    </tr>\n",
       "    <tr>\n",
       "      <th>Species</th>\n",
       "      <td>White shark</td>\n",
       "      <td>NaN</td>\n",
       "    </tr>\n",
       "  </tbody>\n",
       "</table>\n",
       "</div>"
      ],
      "text/plain": [
       "                                                             0  \\\n",
       "Year                                                    2018.0   \n",
       "Type                                                   Boating   \n",
       "Country                                                    USA   \n",
       "Area                                                California   \n",
       "Location                           Oceanside, San Diego County   \n",
       "Activity                                              Paddling   \n",
       "Name                                               Julie Wolfe   \n",
       "Sex                                                          F   \n",
       "Age                                                         57   \n",
       "Injury       No injury to occupant, outrigger canoe and pad...   \n",
       "Fatal (Y/N)                                                  N   \n",
       "Time                                                     18h00   \n",
       "Species                                            White shark   \n",
       "\n",
       "                                          1  \n",
       "Year                                 2018.0  \n",
       "Type                             Unprovoked  \n",
       "Country                                 USA  \n",
       "Area                                Georgia  \n",
       "Location     St. Simon Island, Glynn County  \n",
       "Activity                           Standing  \n",
       "Name                        Adyson�McNeely   \n",
       "Sex                                       F  \n",
       "Age                                      11  \n",
       "Injury           Minor injury to left thigh  \n",
       "Fatal (Y/N)                               N  \n",
       "Time                          14h00  -15h00  \n",
       "Species                                 NaN  "
      ]
     },
     "execution_count": 5,
     "metadata": {},
     "output_type": "execute_result"
    }
   ],
   "source": [
    "data2=data2.fillna('NaN')\n",
    "data2[0:2].T"
   ]
  },
  {
   "cell_type": "code",
   "execution_count": 6,
   "id": "6f3d1a4f",
   "metadata": {
    "execution": {
     "iopub.execute_input": "2021-07-28T05:27:32.243043Z",
     "iopub.status.busy": "2021-07-28T05:27:32.242379Z",
     "iopub.status.idle": "2021-07-28T05:27:32.244949Z",
     "shell.execute_reply": "2021-07-28T05:27:32.245400Z",
     "shell.execute_reply.started": "2021-07-28T05:27:04.863707Z"
    },
    "papermill": {
     "duration": 0.022704,
     "end_time": "2021-07-28T05:27:32.245562",
     "exception": false,
     "start_time": "2021-07-28T05:27:32.222858",
     "status": "completed"
    },
    "tags": []
   },
   "outputs": [
    {
     "name": "stdout",
     "output_type": "stream",
     "text": [
      "['Year', 'Type', 'Country', 'Area', 'Location', 'Activity', 'Name', 'Sex ', 'Age', 'Injury', 'Fatal (Y/N)', 'Time', 'Species ']\n"
     ]
    }
   ],
   "source": [
    "print(data2.columns.tolist())"
   ]
  },
  {
   "cell_type": "code",
   "execution_count": 7,
   "id": "a90e23aa",
   "metadata": {
    "execution": {
     "iopub.execute_input": "2021-07-28T05:27:32.279089Z",
     "iopub.status.busy": "2021-07-28T05:27:32.278477Z",
     "iopub.status.idle": "2021-07-28T05:27:32.296527Z",
     "shell.execute_reply": "2021-07-28T05:27:32.296975Z",
     "shell.execute_reply.started": "2021-07-28T05:27:04.871530Z"
    },
    "papermill": {
     "duration": 0.036888,
     "end_time": "2021-07-28T05:27:32.297158",
     "exception": false,
     "start_time": "2021-07-28T05:27:32.260270",
     "status": "completed"
    },
    "tags": []
   },
   "outputs": [
    {
     "name": "stdout",
     "output_type": "stream",
     "text": [
      "2838\n"
     ]
    },
    {
     "data": {
      "text/html": [
       "<div>\n",
       "<style scoped>\n",
       "    .dataframe tbody tr th:only-of-type {\n",
       "        vertical-align: middle;\n",
       "    }\n",
       "\n",
       "    .dataframe tbody tr th {\n",
       "        vertical-align: top;\n",
       "    }\n",
       "\n",
       "    .dataframe thead th {\n",
       "        text-align: right;\n",
       "    }\n",
       "</style>\n",
       "<table border=\"1\" class=\"dataframe\">\n",
       "  <thead>\n",
       "    <tr style=\"text-align: right;\">\n",
       "      <th></th>\n",
       "      <th>0</th>\n",
       "      <th>1</th>\n",
       "    </tr>\n",
       "  </thead>\n",
       "  <tbody>\n",
       "    <tr>\n",
       "      <th>Year</th>\n",
       "      <td>2018.0</td>\n",
       "      <td>2018.0</td>\n",
       "    </tr>\n",
       "    <tr>\n",
       "      <th>Type</th>\n",
       "      <td>Boating</td>\n",
       "      <td>Unprovoked</td>\n",
       "    </tr>\n",
       "    <tr>\n",
       "      <th>Country</th>\n",
       "      <td>USA</td>\n",
       "      <td>AUSTRALIA</td>\n",
       "    </tr>\n",
       "    <tr>\n",
       "      <th>Area</th>\n",
       "      <td>California</td>\n",
       "      <td>New South Wales</td>\n",
       "    </tr>\n",
       "    <tr>\n",
       "      <th>Location</th>\n",
       "      <td>Oceanside, San Diego County</td>\n",
       "      <td>Arrawarra Headland</td>\n",
       "    </tr>\n",
       "    <tr>\n",
       "      <th>Activity</th>\n",
       "      <td>Paddling</td>\n",
       "      <td>Surfing</td>\n",
       "    </tr>\n",
       "    <tr>\n",
       "      <th>Name</th>\n",
       "      <td>Julie Wolfe</td>\n",
       "      <td>male</td>\n",
       "    </tr>\n",
       "    <tr>\n",
       "      <th>Sex</th>\n",
       "      <td>F</td>\n",
       "      <td>M</td>\n",
       "    </tr>\n",
       "    <tr>\n",
       "      <th>Age</th>\n",
       "      <td>57</td>\n",
       "      <td>NaN</td>\n",
       "    </tr>\n",
       "    <tr>\n",
       "      <th>Injury</th>\n",
       "      <td>No injury to occupant, outrigger canoe and pad...</td>\n",
       "      <td>Minor injury to lower leg</td>\n",
       "    </tr>\n",
       "    <tr>\n",
       "      <th>Fatal (Y/N)</th>\n",
       "      <td>N</td>\n",
       "      <td>N</td>\n",
       "    </tr>\n",
       "    <tr>\n",
       "      <th>Time</th>\n",
       "      <td>18h00</td>\n",
       "      <td>NaN</td>\n",
       "    </tr>\n",
       "    <tr>\n",
       "      <th>Species</th>\n",
       "      <td>White shark</td>\n",
       "      <td>2 m shark</td>\n",
       "    </tr>\n",
       "  </tbody>\n",
       "</table>\n",
       "</div>"
      ],
      "text/plain": [
       "                                                             0  \\\n",
       "Year                                                    2018.0   \n",
       "Type                                                   Boating   \n",
       "Country                                                    USA   \n",
       "Area                                                California   \n",
       "Location                           Oceanside, San Diego County   \n",
       "Activity                                              Paddling   \n",
       "Name                                               Julie Wolfe   \n",
       "Sex                                                          F   \n",
       "Age                                                         57   \n",
       "Injury       No injury to occupant, outrigger canoe and pad...   \n",
       "Fatal (Y/N)                                                  N   \n",
       "Time                                                     18h00   \n",
       "Species                                            White shark   \n",
       "\n",
       "                                     1  \n",
       "Year                            2018.0  \n",
       "Type                        Unprovoked  \n",
       "Country                      AUSTRALIA  \n",
       "Area                   New South Wales  \n",
       "Location            Arrawarra Headland  \n",
       "Activity                       Surfing  \n",
       "Name                              male  \n",
       "Sex                                  M  \n",
       "Age                                NaN  \n",
       "Injury       Minor injury to lower leg  \n",
       "Fatal (Y/N)                          N  \n",
       "Time                               NaN  \n",
       "Species                      2 m shark  "
      ]
     },
     "execution_count": 7,
     "metadata": {},
     "output_type": "execute_result"
    }
   ],
   "source": [
    "drop_index=data2[data2['Species ']=='NaN'].index.tolist()\n",
    "print(len(drop_index))\n",
    "data2=data2.drop(index=data2.index[drop_index]).reset_index(drop=True)\n",
    "data2[0:2].T"
   ]
  },
  {
   "cell_type": "markdown",
   "id": "2547f86f",
   "metadata": {
    "papermill": {
     "duration": 0.014985,
     "end_time": "2021-07-28T05:27:32.327557",
     "exception": false,
     "start_time": "2021-07-28T05:27:32.312572",
     "status": "completed"
    },
    "tags": []
   },
   "source": [
    "# Shark species who attack human"
   ]
  },
  {
   "cell_type": "code",
   "execution_count": 8,
   "id": "308938f3",
   "metadata": {
    "execution": {
     "iopub.execute_input": "2021-07-28T05:27:32.362225Z",
     "iopub.status.busy": "2021-07-28T05:27:32.361617Z",
     "iopub.status.idle": "2021-07-28T05:27:32.368067Z",
     "shell.execute_reply": "2021-07-28T05:27:32.368505Z",
     "shell.execute_reply.started": "2021-07-28T05:27:04.907189Z"
    },
    "papermill": {
     "duration": 0.024783,
     "end_time": "2021-07-28T05:27:32.368678",
     "exception": false,
     "start_time": "2021-07-28T05:27:32.343895",
     "status": "completed"
    },
    "tags": []
   },
   "outputs": [
    {
     "data": {
      "text/plain": [
       "array(['White shark', '2 m shark', 'Tiger shark, 3m', 'Tiger shark',\n",
       "       \"Lemon shark, 3'\", \"Bull shark, 6'\", 'Grey reef shark',\n",
       "       'Invalid incident', 'Tawny nurse shark, 2m',\n",
       "       'Shark involvement not confirmed', 'Questionable', '3 m shark',\n",
       "       'White shark, 3.5 m', 'White shark, 2.5 m', \"6' shark\",\n",
       "       'Juvenile bull shark', 'Bull shark', \"Tiger shark, 12'\",\n",
       "       'Wobbegong shark', '3.5 m shark'], dtype=object)"
      ]
     },
     "execution_count": 8,
     "metadata": {},
     "output_type": "execute_result"
    }
   ],
   "source": [
    "data2['Species '].unique()[0:20]"
   ]
  },
  {
   "cell_type": "code",
   "execution_count": 9,
   "id": "efaca768",
   "metadata": {
    "execution": {
     "iopub.execute_input": "2021-07-28T05:27:32.412668Z",
     "iopub.status.busy": "2021-07-28T05:27:32.411975Z",
     "iopub.status.idle": "2021-07-28T05:27:32.415165Z",
     "shell.execute_reply": "2021-07-28T05:27:32.415600Z",
     "shell.execute_reply.started": "2021-07-28T05:27:04.919296Z"
    },
    "papermill": {
     "duration": 0.031432,
     "end_time": "2021-07-28T05:27:32.415758",
     "exception": false,
     "start_time": "2021-07-28T05:27:32.384326",
     "status": "completed"
    },
    "tags": []
   },
   "outputs": [
    {
     "data": {
      "text/plain": [
       "array(['White shark', 'm shark', 'Tiger shark', 'reef shark', \"6' shark\",\n",
       "       'bull shark', 'Bull shark', 'Wobbegong shark', 'Blacktip shark',\n",
       "       'a shark', '2m shark', 'small shark', 'nurse shark',\n",
       "       'Cookiecutter shark', \"8' shark\", \"5' shark\", 'Nurse shark',\n",
       "       'blacktip shark', \"4' shark\", 'Sandtiger shark', 'Blue shark',\n",
       "       'No shark', 'Seven-gill shark', \"3' shark\", \"9' shark\",\n",
       "       \"10' shark\", 'Lemon shark', 'Angel shark', 'dogfish shark',\n",
       "       'Mako shark', 'Galapagos shark', 'juvenile shark',\n",
       "       'Hammerhead shark', 'but shark', \"7' shark\", '4-foot shark',\n",
       "       'Reef shark', 'whitetip shark', 'Goblin shark', \"2' shark\",\n",
       "       \"14' shark\", 'Spinner shark', 'tiger shark', 'metre shark',\n",
       "       '3m shark', 'Cow shark', 'white shark', '1m shark', '7-gill shark',\n",
       "       'Salmon shark', 'confirmed shark', \"15' shark\", '24\" shark',\n",
       "       'blue shark', 'Raggedtooth shark', \"12' shark\", 'spinner shark',\n",
       "       'sandtiger shark', 'Zambesi shark', 'whaler shark', 'lemon shark',\n",
       "       '30kg shark', 'hammerhead shark', 'Thresher shark', 'kg shark',\n",
       "       'cutter shark', 'sevengill shark', \"+3' shark\", ' shark',\n",
       "       'Basking shark', 'as shark', \"2.5' shark\", 'Sand shark',\n",
       "       '30\" shark', \"3.5' shark\", '\"reef\" shark', '600-kg shark',\n",
       "       \"18' shark\", '200-kg shark', 'sandbar shark', \"[6'] shark\",\n",
       "       \"5'] shark\", '[309-lb] shark', 'same shark', 'no shark',\n",
       "       '36\" shark', 'copper shark', \"[13'] shark\", \"[10'] shark\",\n",
       "       \"[8'] shark\", \"[4'] shark\", 'tipped\" shark', \"12'] shark\",\n",
       "       'brown shark', 'mako shark', 'cow shark', \"6'] shark\",\n",
       "       \"14'] shark\", 'grey-colored shark', \"4'] shark\", '�small� shark',\n",
       "       'captive shark', 'colored shark', \"4.5' shark\", 'bonnethed shark',\n",
       "       \"8'] shark\", \"[3'] shark\", '- shark', \"[5'] shark\",\n",
       "       \"[6.75'] shark\", \"[20'] shark\", \"3'] shark\", \"8.25'] shark\",\n",
       "       'Sevengill shark', \"15'] shark\", 'dusky shark', 'blackfin shark',\n",
       "       'Soupfin shark', 'sand shark', \"7'] shark\", '\"sand\" shark',\n",
       "       \"[12'] shark\", 'Leopard shark', \"[9'] shark\", 'Small shark',\n",
       "       \"[7'] shark\", '[4\\'3\"] shark', 'Unidentified shark',\n",
       "       \"[16.5'] shark\", 'grey shark', '[595-lb] shark', 'female shark',\n",
       "       '150-lb shark', 'Sandbar shark', 'gaffed shark', 'silvertip shark',\n",
       "       \"6.75'] shark\", '\"grey-colored\" shark', 'Zambezi shark',\n",
       "       'believed shark', '100-lb shark', 'silky shark', '[66-lb] shark',\n",
       "       \"[8.25'] shark\", \"13'] shark\", 'thresher shark', \"[11.5'] shark\",\n",
       "       '[6\\'9\"] shark', 'Whale shark', 'porbeagle shark', \"7.5' shark\",\n",
       "       'Carpet shark', '\"blackfin\" shark', 'Copper shark', 'carpet shark',\n",
       "       '6\\'9\"] shark', \"[15'] shark\", '180-lb shark', '[662-lb] shark',\n",
       "       '[300-lb] shark', \"[5.5'] shark\", '1000-lb shark', '500-lb shark',\n",
       "       \"[18'] shark\", '�whaler� shark', '193-lb shark', \"[14'] shark\",\n",
       "       '43\" shark', '\"gummy\" shark', '90-kg shark', '600-lb shark',\n",
       "       'hooked shark', 'larger shark', '[11\\'6\"] shark', \"[16'] shark\",\n",
       "       \"5.5' shark\", \"[4.5'] shark\", '200-lb shark', 'of shark',\n",
       "       'carcharinid shark', '8-lb shark', 'another shark', 'The shark',\n",
       "       \"20' shark\", '5m shark', '1,100-lb shark', \"[2.5'] shark\",\n",
       "       '�spear-eye� shark', '[10\\'9\"] shark', \"[21'] shark\",\n",
       "       '45-kg shark', '[14\\'9\"] shark', 'Porbeagle shark',\n",
       "       \"[21.5'] shark\", \"[8.5'] shark\", 'nosed\" shark', '650-lb shark',\n",
       "       '800-lb shark', '\"cocktail shark', '9-foot shark',\n",
       "       'carcharhinid shark', 'Young, shark', '\"blue\" shark',\n",
       "       'captured shark', 'dog shark', \"13' shark\", '18-foot shark',\n",
       "       '33-foot shark', 'from shark', \"9'] shark\", '13\\'10\" shark',\n",
       "       \"16' shark\", '5\\'7\" shark', 'the shark', \"[15.5'] shark\",\n",
       "       '68\" shark', '234-lb shark', \"24'] shark\", \"[25'] shark\",\n",
       "       'Silvertip shark'], dtype=object)"
      ]
     },
     "execution_count": 9,
     "metadata": {},
     "output_type": "execute_result"
    }
   ],
   "source": [
    "species2=[]\n",
    "for item in data2['Species ']:\n",
    "    item2=item.split(' ')\n",
    "    for i in range(len(item2)):\n",
    "        if item2[i]=='shark':\n",
    "            species2+=[item2[i-1]+' shark']\n",
    "pd.Series(species2).unique()"
   ]
  },
  {
   "cell_type": "markdown",
   "id": "1d026628",
   "metadata": {
    "papermill": {
     "duration": 0.01574,
     "end_time": "2021-07-28T05:27:32.447606",
     "exception": false,
     "start_time": "2021-07-28T05:27:32.431866",
     "status": "completed"
    },
    "tags": []
   },
   "source": [
    "# White Shark\n",
    "<img src=\"https://ktla.com/wp-content/uploads/sites/4/2019/01/gettyimages-582021621.jpg?w=2560&h=1440&crop=1\" width=\"100%\">"
   ]
  },
  {
   "cell_type": "markdown",
   "id": "68ac5f7d",
   "metadata": {
    "papermill": {
     "duration": 0.024223,
     "end_time": "2021-07-28T05:27:32.493083",
     "exception": false,
     "start_time": "2021-07-28T05:27:32.468860",
     "status": "completed"
    },
    "tags": []
   },
   "source": [
    "# Sevengill Shark\n",
    "<img src=\"https://scubasandiego.com/wp-content/uploads/2018/05/sevengill-shark-1500.jpgv1_.jpg\" width=\"100%\">"
   ]
  },
  {
   "cell_type": "markdown",
   "id": "91ce18d6",
   "metadata": {
    "papermill": {
     "duration": 0.015825,
     "end_time": "2021-07-28T05:27:32.530641",
     "exception": false,
     "start_time": "2021-07-28T05:27:32.514816",
     "status": "completed"
    },
    "tags": []
   },
   "source": [
    "# Tiger Shark\n",
    "<img src=\"https://thumbor.forbes.com/thumbor/960x0/https%3A%2F%2Fspecials-images.forbesimg.com%2Fdam%2Fimageserve%2F1149870280%2F960x0.jpg%3Ffit%3Dscale\" width=\"100%\">"
   ]
  },
  {
   "cell_type": "markdown",
   "id": "3db6ef1c",
   "metadata": {
    "papermill": {
     "duration": 0.015969,
     "end_time": "2021-07-28T05:27:32.565690",
     "exception": false,
     "start_time": "2021-07-28T05:27:32.549721",
     "status": "completed"
    },
    "tags": []
   },
   "source": [
    "# Hammerhead Shark\n",
    "<img src=\"https://animals.net/wp-content/uploads/2019/01/Hammerhead-Shark-5-650x425.jpg\" width=\"100%\">"
   ]
  },
  {
   "cell_type": "markdown",
   "id": "85eee311",
   "metadata": {
    "papermill": {
     "duration": 0.015966,
     "end_time": "2021-07-28T05:27:32.598532",
     "exception": false,
     "start_time": "2021-07-28T05:27:32.582566",
     "status": "completed"
    },
    "tags": []
   },
   "source": [
    "# Galapagos shark\n",
    "<img src=\"https://galapagosconservation.org.uk/wp-content/uploads/2014/09/Wildlife-Galapagos-Shark-%C2%A9Jonathan-Green_1000x600.jpg\" width=\"100%\">"
   ]
  },
  {
   "cell_type": "markdown",
   "id": "10e2ab3e",
   "metadata": {
    "papermill": {
     "duration": 0.015745,
     "end_time": "2021-07-28T05:27:32.631037",
     "exception": false,
     "start_time": "2021-07-28T05:27:32.615292",
     "status": "completed"
    },
    "tags": []
   },
   "source": [
    "# Sandbar shark\n",
    "<img src=\"https://www.georgiaaquarium.org/wp-content/uploads/2018/09/sandbar-shark-2-1440x454.jpg\" width=\"100%\">"
   ]
  },
  {
   "cell_type": "markdown",
   "id": "12045bba",
   "metadata": {
    "papermill": {
     "duration": 0.015864,
     "end_time": "2021-07-28T05:27:32.663006",
     "exception": false,
     "start_time": "2021-07-28T05:27:32.647142",
     "status": "completed"
    },
    "tags": []
   },
   "source": [
    "# Bull shark\n",
    "<img src=\"https://cloudfront-us-east-1.images.arcpublishing.com/advancelocal/3SCHNGDUZNECRDAFUTUHD2PZNU.jpg\" width=\"100%\">"
   ]
  },
  {
   "cell_type": "markdown",
   "id": "9d5016dd",
   "metadata": {
    "papermill": {
     "duration": 0.015963,
     "end_time": "2021-07-28T05:27:32.696073",
     "exception": false,
     "start_time": "2021-07-28T05:27:32.680110",
     "status": "completed"
    },
    "tags": []
   },
   "source": [
    "# Cookiecutter shark\n",
    "<img src=\"https://www.thetimes.co.uk/imageserver/image/%2Fmethode%2Ftimes%2Fprod%2Fweb%2Fbin%2Fd743e43c-3ed5-11ea-9c52-a30e6a70847e.jpg?crop=3937%2C2215%2C91%2C494&resize=1180\" width=\"100%\">"
   ]
  },
  {
   "cell_type": "markdown",
   "id": "12098ef7",
   "metadata": {
    "papermill": {
     "duration": 0.016217,
     "end_time": "2021-07-28T05:27:32.731645",
     "exception": false,
     "start_time": "2021-07-28T05:27:32.715428",
     "status": "completed"
    },
    "tags": []
   },
   "source": [
    "# and more..."
   ]
  },
  {
   "cell_type": "code",
   "execution_count": null,
   "id": "6954c20e",
   "metadata": {
    "papermill": {
     "duration": 0.016983,
     "end_time": "2021-07-28T05:27:32.765046",
     "exception": false,
     "start_time": "2021-07-28T05:27:32.748063",
     "status": "completed"
    },
    "tags": []
   },
   "outputs": [],
   "source": []
  },
  {
   "cell_type": "markdown",
   "id": "f38f0404",
   "metadata": {
    "papermill": {
     "duration": 0.017217,
     "end_time": "2021-07-28T05:27:32.799753",
     "exception": false,
     "start_time": "2021-07-28T05:27:32.782536",
     "status": "completed"
    },
    "tags": []
   },
   "source": [
    "# Where did the shark attack incident occurr?"
   ]
  },
  {
   "cell_type": "code",
   "execution_count": 10,
   "id": "b26fde3b",
   "metadata": {
    "execution": {
     "iopub.execute_input": "2021-07-28T05:27:32.835962Z",
     "iopub.status.busy": "2021-07-28T05:27:32.835351Z",
     "iopub.status.idle": "2021-07-28T05:27:32.856294Z",
     "shell.execute_reply": "2021-07-28T05:27:32.855611Z",
     "shell.execute_reply.started": "2021-07-28T05:27:04.946309Z"
    },
    "papermill": {
     "duration": 0.039968,
     "end_time": "2021-07-28T05:27:32.856436",
     "exception": false,
     "start_time": "2021-07-28T05:27:32.816468",
     "status": "completed"
    },
    "tags": []
   },
   "outputs": [],
   "source": [
    "coor=pd.read_csv('../input/shark-attack-dataset/list_coor_australia.csv')"
   ]
  },
  {
   "cell_type": "code",
   "execution_count": 11,
   "id": "2bbff51b",
   "metadata": {
    "execution": {
     "iopub.execute_input": "2021-07-28T05:27:32.894786Z",
     "iopub.status.busy": "2021-07-28T05:27:32.894157Z",
     "iopub.status.idle": "2021-07-28T05:27:32.909723Z",
     "shell.execute_reply": "2021-07-28T05:27:32.909073Z",
     "shell.execute_reply.started": "2021-07-28T05:27:04.958108Z"
    },
    "papermill": {
     "duration": 0.037014,
     "end_time": "2021-07-28T05:27:32.909860",
     "exception": false,
     "start_time": "2021-07-28T05:27:32.872846",
     "status": "completed"
    },
    "tags": []
   },
   "outputs": [],
   "source": [
    "shark_map = folium.Map(location=[-25,133],\n",
    "                            tiles='Stamen Terrain',\n",
    "                            zoom_start=4.0,min_zoom = 3.0)\n",
    "\n",
    "# https://deparkes.co.uk/2016/06/10/folium-map-tiles/"
   ]
  },
  {
   "cell_type": "code",
   "execution_count": 12,
   "id": "d5f0df0f",
   "metadata": {
    "execution": {
     "iopub.execute_input": "2021-07-28T05:27:32.960605Z",
     "iopub.status.busy": "2021-07-28T05:27:32.951286Z",
     "iopub.status.idle": "2021-07-28T05:27:32.965837Z",
     "shell.execute_reply": "2021-07-28T05:27:32.965368Z",
     "shell.execute_reply.started": "2021-07-28T05:27:04.968708Z"
    },
    "papermill": {
     "duration": 0.03979,
     "end_time": "2021-07-28T05:27:32.966014",
     "exception": false,
     "start_time": "2021-07-28T05:27:32.926224",
     "status": "completed"
    },
    "tags": []
   },
   "outputs": [
    {
     "data": {
      "text/html": [
       "<div style=\"width:100%;\"><div style=\"position:relative;width:100%;height:0;padding-bottom:60%;\"><span style=\"color:#565656\">Make this Notebook Trusted to load map: File -> Trust Notebook</span><iframe src=\"about:blank\" style=\"position:absolute;width:100%;height:100%;left:0;top:0;border:none !important;\" data-html=%3C%21DOCTYPE%20html%3E%0A%3Chead%3E%20%20%20%20%0A%20%20%20%20%3Cmeta%20http-equiv%3D%22content-type%22%20content%3D%22text/html%3B%20charset%3DUTF-8%22%20/%3E%0A%20%20%20%20%0A%20%20%20%20%20%20%20%20%3Cscript%3E%0A%20%20%20%20%20%20%20%20%20%20%20%20L_NO_TOUCH%20%3D%20false%3B%0A%20%20%20%20%20%20%20%20%20%20%20%20L_DISABLE_3D%20%3D%20false%3B%0A%20%20%20%20%20%20%20%20%3C/script%3E%0A%20%20%20%20%0A%20%20%20%20%3Cstyle%3Ehtml%2C%20body%20%7Bwidth%3A%20100%25%3Bheight%3A%20100%25%3Bmargin%3A%200%3Bpadding%3A%200%3B%7D%3C/style%3E%0A%20%20%20%20%3Cstyle%3E%23map%20%7Bposition%3Aabsolute%3Btop%3A0%3Bbottom%3A0%3Bright%3A0%3Bleft%3A0%3B%7D%3C/style%3E%0A%20%20%20%20%3Cscript%20src%3D%22https%3A//cdn.jsdelivr.net/npm/leaflet%401.6.0/dist/leaflet.js%22%3E%3C/script%3E%0A%20%20%20%20%3Cscript%20src%3D%22https%3A//code.jquery.com/jquery-1.12.4.min.js%22%3E%3C/script%3E%0A%20%20%20%20%3Cscript%20src%3D%22https%3A//maxcdn.bootstrapcdn.com/bootstrap/3.2.0/js/bootstrap.min.js%22%3E%3C/script%3E%0A%20%20%20%20%3Cscript%20src%3D%22https%3A//cdnjs.cloudflare.com/ajax/libs/Leaflet.awesome-markers/2.0.2/leaflet.awesome-markers.js%22%3E%3C/script%3E%0A%20%20%20%20%3Clink%20rel%3D%22stylesheet%22%20href%3D%22https%3A//cdn.jsdelivr.net/npm/leaflet%401.6.0/dist/leaflet.css%22/%3E%0A%20%20%20%20%3Clink%20rel%3D%22stylesheet%22%20href%3D%22https%3A//maxcdn.bootstrapcdn.com/bootstrap/3.2.0/css/bootstrap.min.css%22/%3E%0A%20%20%20%20%3Clink%20rel%3D%22stylesheet%22%20href%3D%22https%3A//maxcdn.bootstrapcdn.com/bootstrap/3.2.0/css/bootstrap-theme.min.css%22/%3E%0A%20%20%20%20%3Clink%20rel%3D%22stylesheet%22%20href%3D%22https%3A//maxcdn.bootstrapcdn.com/font-awesome/4.6.3/css/font-awesome.min.css%22/%3E%0A%20%20%20%20%3Clink%20rel%3D%22stylesheet%22%20href%3D%22https%3A//cdnjs.cloudflare.com/ajax/libs/Leaflet.awesome-markers/2.0.2/leaflet.awesome-markers.css%22/%3E%0A%20%20%20%20%3Clink%20rel%3D%22stylesheet%22%20href%3D%22https%3A//cdn.jsdelivr.net/gh/python-visualization/folium/folium/templates/leaflet.awesome.rotate.min.css%22/%3E%0A%20%20%20%20%0A%20%20%20%20%20%20%20%20%20%20%20%20%3Cmeta%20name%3D%22viewport%22%20content%3D%22width%3Ddevice-width%2C%0A%20%20%20%20%20%20%20%20%20%20%20%20%20%20%20%20initial-scale%3D1.0%2C%20maximum-scale%3D1.0%2C%20user-scalable%3Dno%22%20/%3E%0A%20%20%20%20%20%20%20%20%20%20%20%20%3Cstyle%3E%0A%20%20%20%20%20%20%20%20%20%20%20%20%20%20%20%20%23map_c70e7ad39cdb44c69b9b32c03bf02367%20%7B%0A%20%20%20%20%20%20%20%20%20%20%20%20%20%20%20%20%20%20%20%20position%3A%20relative%3B%0A%20%20%20%20%20%20%20%20%20%20%20%20%20%20%20%20%20%20%20%20width%3A%20100.0%25%3B%0A%20%20%20%20%20%20%20%20%20%20%20%20%20%20%20%20%20%20%20%20height%3A%20100.0%25%3B%0A%20%20%20%20%20%20%20%20%20%20%20%20%20%20%20%20%20%20%20%20left%3A%200.0%25%3B%0A%20%20%20%20%20%20%20%20%20%20%20%20%20%20%20%20%20%20%20%20top%3A%200.0%25%3B%0A%20%20%20%20%20%20%20%20%20%20%20%20%20%20%20%20%7D%0A%20%20%20%20%20%20%20%20%20%20%20%20%3C/style%3E%0A%20%20%20%20%20%20%20%20%0A%20%20%20%20%3Cscript%20src%3D%22https%3A//cdn.jsdelivr.net/gh/python-visualization/folium%40master/folium/templates/leaflet_heat.min.js%22%3E%3C/script%3E%0A%3C/head%3E%0A%3Cbody%3E%20%20%20%20%0A%20%20%20%20%0A%20%20%20%20%20%20%20%20%20%20%20%20%3Cdiv%20class%3D%22folium-map%22%20id%3D%22map_c70e7ad39cdb44c69b9b32c03bf02367%22%20%3E%3C/div%3E%0A%20%20%20%20%20%20%20%20%0A%3C/body%3E%0A%3Cscript%3E%20%20%20%20%0A%20%20%20%20%0A%20%20%20%20%20%20%20%20%20%20%20%20var%20map_c70e7ad39cdb44c69b9b32c03bf02367%20%3D%20L.map%28%0A%20%20%20%20%20%20%20%20%20%20%20%20%20%20%20%20%22map_c70e7ad39cdb44c69b9b32c03bf02367%22%2C%0A%20%20%20%20%20%20%20%20%20%20%20%20%20%20%20%20%7B%0A%20%20%20%20%20%20%20%20%20%20%20%20%20%20%20%20%20%20%20%20center%3A%20%5B-25.0%2C%20133.0%5D%2C%0A%20%20%20%20%20%20%20%20%20%20%20%20%20%20%20%20%20%20%20%20crs%3A%20L.CRS.EPSG3857%2C%0A%20%20%20%20%20%20%20%20%20%20%20%20%20%20%20%20%20%20%20%20zoom%3A%204.0%2C%0A%20%20%20%20%20%20%20%20%20%20%20%20%20%20%20%20%20%20%20%20zoomControl%3A%20true%2C%0A%20%20%20%20%20%20%20%20%20%20%20%20%20%20%20%20%20%20%20%20preferCanvas%3A%20false%2C%0A%20%20%20%20%20%20%20%20%20%20%20%20%20%20%20%20%7D%0A%20%20%20%20%20%20%20%20%20%20%20%20%29%3B%0A%0A%20%20%20%20%20%20%20%20%20%20%20%20%0A%0A%20%20%20%20%20%20%20%20%0A%20%20%20%20%0A%20%20%20%20%20%20%20%20%20%20%20%20var%20tile_layer_f80d6a813b0749b98f53395808417a36%20%3D%20L.tileLayer%28%0A%20%20%20%20%20%20%20%20%20%20%20%20%20%20%20%20%22https%3A//stamen-tiles-%7Bs%7D.a.ssl.fastly.net/terrain/%7Bz%7D/%7Bx%7D/%7By%7D.jpg%22%2C%0A%20%20%20%20%20%20%20%20%20%20%20%20%20%20%20%20%7B%22attribution%22%3A%20%22Map%20tiles%20by%20%5Cu003ca%20href%3D%5C%22http%3A//stamen.com%5C%22%5Cu003eStamen%20Design%5Cu003c/a%5Cu003e%2C%20under%20%5Cu003ca%20href%3D%5C%22http%3A//creativecommons.org/licenses/by/3.0%5C%22%5Cu003eCC%20BY%203.0%5Cu003c/a%5Cu003e.%20Data%20by%20%5Cu0026copy%3B%20%5Cu003ca%20href%3D%5C%22http%3A//openstreetmap.org%5C%22%5Cu003eOpenStreetMap%5Cu003c/a%5Cu003e%2C%20under%20%5Cu003ca%20href%3D%5C%22http%3A//creativecommons.org/licenses/by-sa/3.0%5C%22%5Cu003eCC%20BY%20SA%5Cu003c/a%5Cu003e.%22%2C%20%22detectRetina%22%3A%20false%2C%20%22maxNativeZoom%22%3A%2018%2C%20%22maxZoom%22%3A%2018%2C%20%22minZoom%22%3A%203.0%2C%20%22noWrap%22%3A%20false%2C%20%22opacity%22%3A%201%2C%20%22subdomains%22%3A%20%22abc%22%2C%20%22tms%22%3A%20false%7D%0A%20%20%20%20%20%20%20%20%20%20%20%20%29.addTo%28map_c70e7ad39cdb44c69b9b32c03bf02367%29%3B%0A%20%20%20%20%20%20%20%20%0A%20%20%20%20%0A%20%20%20%20%20%20%20%20%20%20%20%20var%20heat_map_24c76cb0fe854fa6943e670cd14785ff%20%3D%20L.heatLayer%28%0A%20%20%20%20%20%20%20%20%20%20%20%20%20%20%20%20%5B%5B-30.37399135%2C%20152.71920995667793%5D%2C%20%5B-33.981732550000004%2C%20151.17954913553183%5D%2C%20%5B-33.54022%2C%20115.04011%5D%2C%20%5B-31.9527121%2C%20115.8604796%5D%2C%20%5B-10.57864585%2C%20142.21892059042744%5D%2C%20%5B-31.9315122%2C%20133.0065803%5D%2C%20%5B-33.3570421%2C%20115.6667402%5D%2C%20%5B-32.5082936%2C%20137.7754583%5D%2C%20%5B-34.8564573%2C%20138.5215141%5D%2C%20%5B-34.9281805%2C%20138.5999312%5D%2C%20%5B-35.0247822%2C%20117.883608%5D%2C%20%5B-35.279293%2C%20138.4604028%5D%2C%20%5B-37.86715875%2C%20144.82949742472704%5D%2C%20%5B-38.4051948%2C%20144.188958%5D%2C%20%5B-29.4454874%2C%20153.3524451%5D%2C%20%5B-29.478884%2C%20153.3600421%5D%2C%20%5B-35.2992143%2C%20149.0703540501167%5D%2C%20%5B-34.424675%2C%20137.915867%5D%2C%20%5B-16.6905453%2C%20145.97448044198163%5D%2C%20%5B-12.7308333%2C%20134.5927778%5D%2C%20%5B-30.060426%2C%20153.2016851%5D%2C%20%5B-23.8621041%2C%20151.233363%5D%2C%20%5B-34.3064627%2C%20150.9292162%5D%2C%20%5B-33.6365039%2C%20151.3290299%5D%2C%20%5B-33.6365039%2C%20151.3290299%5D%2C%20%5B-33.465%2C%20151.4344444%5D%2C%20%5B-41.0947916%2C%20146.6483767%5D%2C%20%5B-10.12096135%2C%20142.14072910373417%5D%2C%20%5B-34.9206217%2C%20118.4681303390622%5D%2C%20%5B-32.938888%2C%20151.7683089%5D%2C%20%5B-32.938888%2C%20151.7683089%5D%2C%20%5B-16.35%2C%20145.9%5D%2C%20%5B-34.5983333%2C%20150.8844444%5D%2C%20%5B-35.7072183%2C%20150.178289%5D%2C%20%5B-11.57730195%2C%20130.41773967150868%5D%2C%20%5B-16.413117399999997%2C%20145.76915778867664%5D%2C%20%5B-41.0275491%2C%20146.9513643%5D%2C%20%5B-35.0134273%2C%20150.8488033%5D%2C%20%5B-34.362853%2C%20150.9100489%5D%2C%20%5B-38.36898495%2C%20144.2824517159807%5D%2C%20%5B-28.6462405%2C%20153.5963962%5D%2C%20%5B-28.6155104%2C%20153.5837114938711%5D%2C%20%5B-36.4278621%2C%20150.0773955%5D%2C%20%5B-27.4700395%2C%20153.0125195%5D%2C%20%5B-35.173658700000004%2C%20150.6087871232121%5D%2C%20%5B-33.6443165%2C%20151.324484%5D%2C%20%5B-41.24899%2C%20148.31215%5D%2C%20%5B-33.1491325%2C%20115.6972499%5D%2C%20%5B-32.7865966%2C%20152.08121011636692%5D%2C%20%5B-32.96081%2C%20137.73236%5D%2C%20%5B-38.3687445%2C%20144.7722682%5D%2C%20%5B-31.4239945%2C%20152.8874602%5D%2C%20%5B-37.83390795%2C%20145.0321001%5D%2C%20%5B-34.65930085%2C%20150.85451672257915%5D%2C%20%5B-33.8930556%2C%20151.2633333%5D%2C%20%5B-33.8906977%2C%20151.2724119%5D%2C%20%5B-33.8906977%2C%20151.2724119%5D%2C%20%5B-33.8930556%2C%20151.2633333%5D%2C%20%5B-33.8930556%2C%20151.2633333%5D%2C%20%5B-25.6665615%2C%20152.8996663%5D%2C%20%5B-32.24447495%2C%20152.52830043393635%5D%2C%20%5B-33.981732550000004%2C%20151.17954913553183%5D%2C%20%5B-33.981732550000004%2C%20151.17954913553183%5D%2C%20%5B-20.012125%2C%20148.2462901%5D%2C%20%5B-33.884175%2C%20116.51975149155834%5D%2C%20%5B-33.8515199%2C%20151.2459734%5D%2C%20%5B-18.413688800000003%2C%20146.70953799854377%5D%2C%20%5B-12.10675445%2C%20136.80918095832118%5D%2C%20%5B-26.9886055%2C%20153.132733%5D%2C%20%5B-41.0022767%2C%20147.3925192%5D%2C%20%5B-35.2800082%2C%20138.4607019%5D%2C%20%5B-37.9081962%2C%20144.9957991%5D%2C%20%5B-27.4689682%2C%20153.0234991%5D%2C%20%5B-27.1609698%2C%20152.5361974%5D%2C%20%5B-27.4689682%2C%20153.0234991%5D%2C%20%5B-28.70170575%2C%20153.61384702088105%5D%2C%20%5B-28.715%2C%20153.5844444%5D%2C%20%5B-33.9036232%2C%20151.26829232543662%5D%2C%20%5B-33.9042128%2C%20151.2637774%5D%2C%20%5B-17.9566909%2C%20122.2240181%5D%2C%20%5B-32.617282%2C%20152.32007141302046%5D%2C%20%5B-28.538885%2C%20153.5483811%5D%2C%20%5B-33.3267797%2C%20115.636698%5D%2C%20%5B-28.0879032%2C%20153.4509704170274%5D%2C%20%5B-25.3933294%2C%20151.6928351%5D%2C%20%5B-33.65813215%2C%20115.26032402939752%5D%2C%20%5B-28.6483333%2C%20153.6177778%5D%2C%20%5B-28.6483333%2C%20153.6177778%5D%2C%20%5B-27.332647%2C%20153.0663192%5D%2C%20%5B-35.3489%2C%20138.4520611%5D%2C%20%5B-16.9186011%2C%20145.77365282675595%5D%2C%20%5B-23.9748908%2C%20151.0545484%5D%2C%20%5B-26.7981633%2C%20153.1354434%5D%2C%20%5B-38.0231747%2C%20140.5906436%5D%2C%20%5B-43.2531458%2C%20147.4261077%5D%2C%20%5B-37.5045%2C%20149.977%5D%2C%20%5B-35.6061685%2C%20138.1053486%5D%2C%20%5B-16.3889439%2C%20122.9253298%5D%2C%20%5B-27.0294705%2C%20153.46574%5D%2C%20%5B-38.4234761%2C%20141.54746355373686%5D%2C%20%5B-32.121607%2C%20115.66253476078504%5D%2C%20%5B-24.46627685%2C%20114.17114969316594%5D%2C%20%5B-28.0050108%2C%20153.36606141719346%5D%2C%20%5B-38.0769786%2C%20145.1229404%5D%2C%20%5B-33.5836249%2C%20115.0902003%5D%2C%20%5B-37.2822797%2C%20142.5614978%5D%2C%20%5B-33.1122864%2C%20151.6449973%5D%2C%20%5B-32.1483706%2C%20134.09672159341682%5D%2C%20%5B-32.3775%2C%20152.5258333%5D%2C%20%5B-34.8801321%2C%20118.40001739573384%5D%2C%20%5B-33.8403156%2C%20151.2540251%5D%2C%20%5B-31.9526438%2C%20115.8587898%5D%2C%20%5B-22.1081162%2C%20149.5287402%5D%2C%20%5B-29.4319527%2C%20153.3653836%5D%2C%20%5B-29.207293%2C%20152.59221%5D%2C%20%5B-28.6397283%2C%20153.62735815483552%5D%2C%20%5B-27.5262987%2C%20153.2667298%5D%2C%20%5B-42.9899255%2C%20147.5234993%5D%2C%20%5B-34.2421548%2C%20150.9774706%5D%2C%20%5B-33.8464922%2C%20151.1731382%5D%2C%20%5B-37.827573%2C%20145.05815056814913%5D%2C%20%5B-34.6211018%2C%20135.4632303%5D%2C%20%5B-34.28860804999999%2C%20150.94862090755518%5D%2C%20%5B-33.7382194%2C%20151.2996618%5D%2C%20%5B-33.3540839%2C%20115.9029735%5D%2C%20%5B-16.47086%2C%20123.5577%5D%2C%20%5B-33.9217004%2C%20151.2557975%5D%2C%20%5B-33.9217004%2C%20151.2557975%5D%2C%20%5B-28.19538185%2C%20153.57779042509856%5D%2C%20%5B-32.9316667%2C%20151.7677778%5D%2C%20%5B-15.4726622%2C%20145.2534218%5D%2C%20%5B-26.5291822%2C%20153.0909417%5D%2C%20%5B-34.9075048%2C%20138.5689234221782%5D%2C%20%5B-33.0758112%2C%20151.4539993%5D%2C%20%5B-23.1436752%2C%20113.770165%5D%2C%20%5B-20.678383%2C%20117.1886006%5D%2C%20%5B-31.9957%2C%20115.751%5D%2C%20%5B-31.9921125%2C%20115.7632414%5D%2C%20%5B-33.86084%2C%20114.98008%5D%2C%20%5B-33.6841515%2C%20136.9236987%5D%2C%20%5B-38.470971%2C%20145.23889820817348%5D%2C%20%5B-31.19%2C%20152.9761111%5D%2C%20%5B-34.0575259%2C%20151.1523851%5D%2C%20%5B-34.0575259%2C%20151.1523851%5D%2C%20%5B-34.8984154%2C%20150.7678458%5D%2C%20%5B-31.84016%2C%20152.7511891%5D%2C%20%5B-28.2938914%2C%20153.5680193%5D%2C%20%5B-33.7698341%2C%20151.2898175%5D%2C%20%5B-28.12539935%2C%20153.48649452946262%5D%2C%20%5B-28.1369655%2C%20153.4799277%5D%2C%20%5B-9.5851102%2C%20143.76975212982734%5D%2C%20%5B-12.4301775%2C%20130.79131989045456%5D%2C%20%5B-12.46044%2C%20130.8410469%5D%2C%20%5B-9.51933585%2C%20141.5711755798207%5D%2C%20%5B-34.936027%2C%20117.1316105871886%5D%2C%20%5B-20.35923885%2C%20148.93284326980898%5D%2C%20%5B-20.9861715%2C%20149.78575811788687%5D%2C%20%5B-42.803102%2C%20146.54404049209268%5D%2C%20%5B-26.7803121%2C%20153.1371567%5D%2C%20%5B-12.09075025%2C%2096.87750104570765%5D%2C%20%5B-21.5339382%2C%20115.13050208732685%5D%2C%20%5B-35.005361%2C%20116.5127384%5D%2C%20%5B-33.8739831%2C%20151.2810366%5D%2C%20%5B-16.39813%2C%20123.87075%5D%2C%20%5B-28.3069529%2C%20153.5218903%5D%2C%20%5B-43.0171208%2C%20147.9254449%5D%2C%20%5B-28.8595562%2C%20153.5832729%5D%2C%20%5B-37.84519155%2C%20144.93090891040157%5D%2C%20%5B-33.7211586%2C%20150.4773453%5D%2C%20%5B-11.9136184%2C%20135.8022439624055%5D%2C%20%5B-32.421131%2C%20150.4592555%5D%2C%20%5B-37.8870318%2C%20144.98174346499763%5D%2C%20%5B-37.88096%2C%20144.98556293885335%5D%2C%20%5B-30.1694411%2C%20153.1880565%5D%2C%20%5B-30.882819%2C%20150.1074559%5D%2C%20%5B-14.1705146%2C%20130.326799%5D%2C%20%5B-35.57341%2C%20138.75155%5D%2C%20%5B-33.440355350000004%2C%20122.40543766433429%5D%2C%20%5B-29.1174093%2C%20153.4312097%5D%2C%20%5B-22.29247155%2C%20114.1469586328106%5D%2C%20%5B-23.4062641%2C%20150.4693435%5D%2C%20%5B-32.5797992%2C%20115.6573247%5D%2C%20%5B-18.68722775%2C%20146.51944492779182%5D%2C%20%5B-32.7470423%2C%20152.1687575%5D%2C%20%5B-32.744241450000004%2C%20152.17092476663618%5D%2C%20%5B-34.914731%2C%20135.6858884%5D%2C%20%5B-16.932898799999997%2C%20145.994169670281%5D%2C%20%5B-23.3764551%2C%20150.5124751%5D%2C%20%5B-28.8429552%2C%20153.6079901360164%5D%2C%20%5B-27.39052745%2C%20153.55180699850703%5D%2C%20%5B-39.9967743%2C%20148.08943695264355%5D%2C%20%5B-20.862898%2C%20144.2526073309786%5D%2C%20%5B-31.9310469%2C%20115.7548327%5D%2C%20%5B-38.1444729%2C%20145.1268808%5D%2C%20%5B-25.24672%2C%20153.1468043687652%5D%2C%20%5B-32.0558714%2C%20115.7461693%5D%2C%20%5B-35.09417%2C%20117.9478%5D%2C%20%5B-32.059649%2C%20115.75215080847684%5D%2C%20%5B-33.8581058%2C%20151.2299574%5D%2C%20%5B-38.1492813%2C%20144.3598269%5D%2C%20%5B-33.57334%2C%20115.2648%5D%2C%20%5B-41.1050157%2C%20146.8238459%5D%2C%20%5B-34.0392423%2C%20150.8946067%5D%2C%20%5B-34.0392423%2C%20150.8946067%5D%2C%20%5B-28.77035%2C%20114.6147159%5D%2C%20%5B-34.7461982%2C%20150.8278546%5D%2C%20%5B-23.8720509%2C%20151.251287%5D%2C%20%5B-23.8431724%2C%20151.256132%5D%2C%20%5B-34.9803673%2C%20138.5143342%5D%2C%20%5B-32.7219495%2C%20152.1117516%5D%2C%20%5B-34.9803673%2C%20138.5143342%5D%2C%20%5B-23.9895363%2C%20113.4994447%5D%2C%20%5B-26.8122263%2C%20153.1207662786106%5D%2C%20%5B-38.2106899%2C%20147.3982171%5D%2C%20%5B-35.0747847%2C%20137.6877757%5D%2C%20%5B-35.5141519%2C%20138.76095556318342%5D%2C%20%5B-35.5020818%2C%20138.7820507%5D%2C%20%5B-11.5945074%2C%20133.4549147%5D%2C%20%5B-33.8646786%2C%20114.9881592%5D%2C%20%5B-27.520899%2C%20152.977918%5D%2C%20%5B-34.8991361%2C%20138.498079%5D%2C%20%5B-16.35%2C%20145.9%5D%2C%20%5B-16.35%2C%20145.9%5D%2C%20%5B-23.17339165%2C%20150.9570811816762%5D%2C%20%5B-43.1974115%2C%20147.29057313323517%5D%2C%20%5B-28.165847%2C%20153.5451851425658%5D%2C%20%5B-13.9805252%2C%20136.58688005808932%5D%2C%20%5B-32.0713889%2C%20152.5019444%5D%2C%20%5B-34.2202758%2C%20115.0313474%5D%2C%20%5B-34.8918753%2C%20137.4594652%5D%2C%20%5B-33.15052%2C%20115.91696031342174%5D%2C%20%5B-33.52604685%2C%20151.21518219333777%5D%2C%20%5B-33.52604685%2C%20151.21518219333777%5D%2C%20%5B-36.0782926%2C%20148.63469772346625%5D%2C%20%5B-18.30427%2C%20146.0959%5D%2C%20%5B-42.8825088%2C%20147.3281233%5D%2C%20%5B-17.1507235%2C%20145.850919%5D%2C%20%5B-37.84849%2C%20144.93465%5D%2C%20%5B-35.718676%2C%20137.9439001%5D%2C%20%5B-16.3789278%2C%20123.9595243%5D%2C%20%5B-19.9775098%2C%20148.263318%5D%2C%20%5B-29.4095634%2C%20153.36534589120652%5D%2C%20%5B-33.6994998%2C%20114.9889732%5D%2C%20%5B-27.6160135%2C%20152.7608702%5D%2C%20%5B-33.8634282%2C%20151.148633889396%5D%2C%20%5B-38.34740485%2C%20144.30644801557804%5D%2C%20%5B-35.156509650000004%2C%20150.6820502987872%5D%2C%20%5B-35.156509650000004%2C%20150.6820502987872%5D%2C%20%5B-32.6778687%2C%20152.17138125758927%5D%2C%20%5B-33.7001844%2C%20150.3249705%5D%2C%20%5B-28.6324691%2C%20153.5866751%5D%2C%20%5B-30.3040478%2C%20115.0406027%5D%2C%20%5B-27.7109989%2C%20114.1638162%5D%2C%20%5B-35.8182635%2C%20137.15661254022396%5D%2C%20%5B-31.0798092%2C%20152.842289%5D%2C%20%5B-29.78229%2C%20151.37936%5D%2C%20%5B-34.6958202%2C%20150.79591231385055%5D%2C%20%5B-38.5491802%2C%20145.4763722%5D%2C%20%5B-26.80463215%2C%20153.1408585072595%5D%2C%20%5B-28.2723534%2C%20153.58155312468637%5D%2C%20%5B-28.2566667%2C%20153.5761111%5D%2C%20%5B-26.80463215%2C%20153.1408585072595%5D%2C%20%5B-28.1677859%2C%20153.53161475535745%5D%2C%20%5B-28.1676805%2C%20153.5295271%5D%2C%20%5B-38.36164025%2C%20144.74914723807058%5D%2C%20%5B-33.9487089%2C%20151.2051451%5D%2C%20%5B-38.41874025%2C%20142.00169080467165%5D%2C%20%5B-34.52250215%2C%20150.84046599133683%5D%2C%20%5B-33.06576870000001%2C%20151.61098699880313%5D%2C%20%5B-21.0748198%2C%20149.22829503325443%5D%2C%20%5B-21.0748198%2C%20149.22829503325443%5D%2C%20%5B-31.00633695%2C%20115.31650911324236%5D%2C%20%5B-31.0225285%2C%20115.3301909%5D%2C%20%5B-34.8266187%2C%20138.4935504%5D%2C%20%5B-32.2327612%2C%20133.8203314560278%5D%2C%20%5B-33.8735959%2C%20151.1821609%5D%2C%20%5B-32.024066250000004%2C%20115.75071897887008%5D%2C%20%5B-28.7910334%2C%20153.5878047%5D%2C%20%5B-28.7910334%2C%20153.5878047%5D%2C%20%5B-38.3771824%2C%20142.4317238%5D%2C%20%5B-28.8715325%2C%20153.59041337083795%5D%2C%20%5B-32.4442517%2C%20152.52607815993247%5D%2C%20%5B-31.5312661%2C%20152.87474460549646%5D%2C%20%5B-19.68192715%2C%20149.1995611818486%5D%2C%20%5B-34.26194%2C%20136.26056%5D%2C%20%5B-28.79363905%2C%20153.26708675122956%5D%2C%20%5B-34.47336005%2C%20119.1205000758204%5D%2C%20%5B-33.99138545%2C%20151.2383236410764%5D%2C%20%5B-31.470197%2C%20150.3942707156852%5D%2C%20%5B-14.6683188%2C%20145.4609161%5D%2C%20%5B-27.9380952%2C%20152.9734024%5D%2C%20%5B-33.74198%2C%20151.3171101%5D%2C%20%5B-33.74198%2C%20151.3171101%5D%2C%20%5B-30.4105598%2C%20145.0907719%5D%2C%20%5B-31.5540166%2C%20159.08562562605897%5D%2C%20%5B-38.5411691%2C%20143.9748166%5D%2C%20%5B-43.653292750000006%2C%20146.27596025649763%5D%2C%20%5B-21.141956%2C%20149.1865149%5D%2C%20%5B-30.9064024%2C%20152.590455%5D%2C%20%5B-19.1421421%2C%20146.83354856403196%5D%2C%20%5B-27.9787768%2C%20153.4271228%5D%2C%20%5B-43.43503935%2C%20146.99107067441074%5D%2C%20%5B-33.7971937%2C%20151.2879845%5D%2C%20%5B-31.8517188%2C%20152.1004561%5D%2C%20%5B-35.0499168%2C%20138.5153326%5D%2C%20%5B-35.238043%2C%20136.9790673%5D%2C%20%5B-26.65951775%2C%20153.1048356361493%5D%2C%20%5B-26.6556523%2C%20153.0946684%5D%2C%20%5B-33.9497989%2C%20151.2620583%5D%2C%20%5B-33.9496372%2C%20151.2567007457838%5D%2C%20%5B-33.9453441%2C%20151.2456824%5D%2C%20%5B-20.28572705%2C%20149.0686452163714%5D%2C%20%5B-26.1242027%2C%20152.5715907%5D%2C%20%5B-25.537583%2C%20152.7019182%5D%2C%20%5B-23.1144364%2C%20113.776292%5D%2C%20%5B-33.500442%2C%20151.3209765%5D%2C%20%5B-37.8142176%2C%20144.9631608%5D%2C%20%5B-32.94839145%2C%20151.75666286721324%5D%2C%20%5B-32.949294300000005%2C%20151.7569150124108%5D%2C%20%5B-36.8882027%2C%20149.909846%5D%2C%20%5B-28.0447106%2C%20153.4373204%5D%2C%20%5B-28.0513%2C%20153.4191232%5D%2C%20%5B-33.2630115%2C%20151.4827006%5D%2C%20%5B-23.1525115%2C%20150.9053936%5D%2C%20%5B-28.0770105%2C%20153.4361256%5D%2C%20%5B-33.7911216%2C%20151.2341749799246%5D%2C%20%5B-35.0234762%2C%20117.9116782%5D%2C%20%5B-33.8599129%2C%20151.2041274%5D%2C%20%5B-37.5949379%2C%20140.3526512%5D%2C%20%5B-31.6897332%2C%20115.7091824%5D%2C%20%5B-36.1206792%2C%20144.7517441%5D%2C%20%5B-26.7905687%2C%20153.14356639585577%5D%2C%20%5B-26.7907402%2C%20153.1421093%5D%2C%20%5B-35.3199025%2C%20150.4763977%5D%2C%20%5B-33.68273345%2C%20151.3114565192589%5D%2C%20%5B-33.6769931%2C%20151.3029577%5D%2C%20%5B-33.6769931%2C%20151.3029577%5D%2C%20%5B-26.6811429%2C%20153.12190629808532%5D%2C%20%5B-26.6797616%2C%20153.1200739%5D%2C%20%5B-30.2059311%2C%20153.1521065%5D%2C%20%5B-24.8492659%2C%20152.3198871%5D%2C%20%5B-38.0067174%2C%20145.0875658%5D%2C%20%5B-27.2997073%2C%20152.9555597%5D%2C%20%5B-27.2397819%2C%20153.2539994%5D%2C%20%5B-27.19264975%2C%20153.39431796425487%5D%2C%20%5B-16.5625647%2C%20139.34064086040513%5D%2C%20%5B-38.2754676%2C%20145.0307737%5D%2C%20%5B-37.1423163%2C%20150.0043599%5D%2C%20%5B-26.61468235%2C%20153.1147404944901%5D%2C%20%5B-30.0769195%2C%20153.2046516%5D%2C%20%5B-28.3267617%2C%20153.3971541%5D%2C%20%5B-35.05162675%2C%20117.69728089121377%5D%2C%20%5B-30.70847195%2C%20152.779490809455%5D%2C%20%5B-34.45329325%2C%20119.36132590343962%5D%2C%20%5B-27.35688%2C%20152.969374%5D%2C%20%5B-10.120496500000002%2C%20142.14084750006657%5D%2C%20%5B-33.8956131%2C%20151.2729215%5D%2C%20%5B-27.5235%2C%20152.937816%5D%2C%20%5B-16.910751%2C%20145.7336204%5D%2C%20%5B-9.423301%2C%20142.53698318272365%5D%2C%20%5B-9.957593%2C%20142.1794993716887%5D%2C%20%5B-34.7780555%2C%20137.8616512%5D%2C%20%5B-27.965842%2C%20153.408099%5D%2C%20%5B-33.7408811%2C%20151.1511214%5D%2C%20%5B-33.7408811%2C%20151.1511214%5D%2C%20%5B-10.5844089%2C%20142.2192935%5D%2C%20%5B-31.5176253%2C%20159.06414279075972%5D%2C%20%5B-32.715%2C%20151.7177778%5D%2C%20%5B-9.56798335%2C%20143.656397702098%5D%2C%20%5B-28.1256947%2C%20153.2339733%5D%2C%20%5B-40.9338966%2C%20144.6361724%5D%2C%20%5B-32.9192953%2C%20151.7795348%5D%2C%20%5B-32.93076175%2C%20151.78509594452277%5D%2C%20%5B-32.9192953%2C%20151.7795348%5D%2C%20%5B-12.1804346%2C%20136.7759913%5D%2C%20%5B-31.4463697%2C%20152.92949693997366%5D%2C%20%5B-31.4463697%2C%20152.92949693997366%5D%2C%20%5B-26.3970775%2C%20153.0897466%5D%2C%20%5B-26.3182505%2C%20152.9307785967742%5D%2C%20%5B-33.2816667%2C%20151.5677778%5D%2C%20%5B-33.2643752%2C%20151.5581978%5D%2C%20%5B-35.4446851%2C%20138.3174968%5D%2C%20%5B-33.46042105%2C%20151.43826264743535%5D%2C%20%5B-33.882351%2C%20151.2768611%5D%2C%20%5B-31.9935339%2C%20115.7556896%5D%2C%20%5B-34.0509649%2C%20151.1563013697167%5D%2C%20%5B-34.7872004%2C%20138.4905349%5D%2C%20%5B-14.81887%2C%20134.42627%5D%2C%20%5B-33.70760185%2C%20151.3044080802595%5D%2C%20%5B-33.3704318%2C%20151.4859349%5D%2C%20%5B-33.7947096%2C%20151.2872364%5D%2C%20%5B-16.5861445%2C%20145.523438445595%5D%2C%20%5B-31.7569941%2C%20115.7380757%5D%2C%20%5B-27.4966392%2C%20153.0334334%5D%2C%20%5B-16.8769043%2C%20145.7541751%5D%2C%20%5B-41.73697%2C%20148.07717%5D%2C%20%5B-37.8479237%2C%20144.9953808%5D%2C%20%5B-12.1804346%2C%20136.7759913%5D%2C%20%5B-33.882351%2C%20151.2768611%5D%2C%20%5B-33.6004217%2C%20137.9311455%5D%2C%20%5B-32.0069345%2C%20115.52076766295936%5D%2C%20%5B-35.2781464%2C%20149.1757831%5D%2C%20%5B-38.2782123%2C%20146.9491442%5D%2C%20%5B-38.3301835%2C%20142.3534762936327%5D%2C%20%5B-30.7894765%2C%20115.23698136734475%5D%2C%20%5B-21.6382467%2C%20115.1134438%5D%2C%20%5B-16.22510615%2C%20145.89791827142685%5D%2C%20%5B-18.61758805%2C%20146.49532659453692%5D%2C%20%5B-44.9976734%2C%20169.9394742%5D%2C%20%5B-34.2107072%2C%20151.0058352%5D%2C%20%5B-34.7727146%2C%20138.4981585%5D%2C%20%5B-33.6005473%2C%20151.3231536%5D%2C%20%5B-16.7444744%2C%20145.6710279%5D%2C%20%5B-16.7546685%2C%20145.67200675593682%5D%2C%20%5B-18.726486%2C%20146.6057856762452%5D%2C%20%5B-37.9245445%2C%20145.5285019%5D%2C%20%5B-38.1893528%2C%20147.4240851%5D%2C%20%5B-34.04110345%2C%20137.62971320011115%5D%2C%20%5B-30.2886848%2C%20153.13957308979366%5D%2C%20%5B-33.80913395%2C%20151.00441999541306%5D%2C%20%5B-33.8215352%2C%20151.0860852%5D%2C%20%5B-33.8599252%2C%20151.1960702%5D%2C%20%5B-27.4999576%2C%20153.35235125005863%5D%2C%20%5B-26.81864045%2C%20153.11449360980373%5D%2C%20%5B-35.8492485%2C%20137.750585%5D%2C%20%5B-26.4810973%2C%20153.0961801%5D%2C%20%5B-31.9527121%2C%20115.8604796%5D%2C%20%5B-38.5074036%2C%20145.18848037908447%5D%2C%20%5B-25.2872119%2C%20152.8423927934027%5D%2C%20%5B-33.3204407%2C%20115.6382647%5D%2C%20%5B-38.1286835%2C%20144.4256815%5D%2C%20%5B-38.2725073%2C%20144.6136725%5D%2C%20%5B-27.4255435%2C%20153.481632%5D%2C%20%5B-32.99431675%2C%20137.78067011482975%5D%2C%20%5B-31.314908%2C%20152.9754159%5D%2C%20%5B-25.2566014%2C%20152.825305%5D%2C%20%5B-32.4908819%2C%20137.7639874%5D%2C%20%5B-38.6196293%2C%20142.995366%5D%2C%20%5B-16.4845983%2C%20145.4636294%5D%2C%20%5B-33.0205285%2C%20137.9993185%5D%2C%20%5B-20.3111814%2C%20118.5801181%5D%2C%20%5B-33.8257943%2C%20151.2798261%5D%2C%20%5B-35.0566862%2C%20150.6302565%5D%2C%20%5B-32.3704685%2C%20115.7527396%5D%2C%20%5B-37.8333613%2C%20144.9219203%5D%2C%20%5B-38.1041717%2C%20144.7799572472116%5D%2C%20%5B-38.1041717%2C%20144.7799572472116%5D%2C%20%5B-34.8132157%2C%20138.5348444%5D%2C%20%5B-34.1853492%2C%20138.1553794%5D%2C%20%5B-38.1156562%2C%20144.6530634%5D%2C%20%5B-38.3456231%2C%20141.6042304%5D%2C%20%5B-33.7823916%2C%20151.2854011%5D%2C%20%5B-33.7823916%2C%20151.2854011%5D%2C%20%5B-33.8714291%2C%20151.2004539%5D%2C%20%5B-34.043323349999994%2C%20115.00148208318356%5D%2C%20%5B-33.014438%2C%20151.7201076%5D%2C%20%5B-17.99496%2C%20122.32191%5D%2C%20%5B-38.3710325%2C%20144.9095115%5D%2C%20%5B-19.2559425%2C%20146.8263741%5D%2C%20%5B-19.3090595%2C%20146.7688108%5D%2C%20%5B-36.7149638%2C%20174.7483834%5D%2C%20%5B-32.006974%2C%20115.5041886%5D%2C%20%5B-43.1789143%2C%20147.860731%5D%2C%20%5B-32.0176315%2C%20152.55563291506522%5D%2C%20%5B-36.3730877%2C%20149.9446115%5D%2C%20%5B-32.7637992%2C%20152.1367808%5D%2C%20%5B-32.39144925%2C%20152.5204819357471%5D%2C%20%5B-37.1676796%2C%20144.0382942%5D%2C%20%5B-37.950301%2C%20145.0043875%5D%2C%20%5B-31.9272983%2C%20115.8524288%5D%2C%20%5B-31.8959841%2C%20115.7592114%5D%2C%20%5B-30.7460493%2C%20152.9963024%5D%2C%20%5B-37.8677992%2C%20144.8410816%5D%2C%20%5B-34.455564%2C%20137.359355%5D%2C%20%5B-35.5146849%2C%20138.2192418%5D%2C%20%5B-34.8389257%2C%20138.4828377%5D%2C%20%5B-34.83706065%2C%20150.75398192278212%5D%2C%20%5B-26.32617975%2C%20114.3179177052546%5D%2C%20%5B-34.038562%2C%20151.1424114311625%5D%2C%20%5B-28.83757345%2C%20153.60440400883255%5D%2C%20%5B-28.8628884%2C%20153.59489999931168%5D%2C%20%5B-32.055963199999994%2C%20152.5459561871523%5D%2C%20%5B-34.0641462%2C%20151.15546489014878%5D%2C%20%5B-35.5437806%2C%20150.3920202%5D%2C%20%5B-35.14181285%2C%20150.39164649482632%5D%2C%20%5B-32.3843124%2C%20152.48613685722728%5D%2C%20%5B-38.3457059%2C%20144.7247571%5D%2C%20%5B-33.4409804%2C%20149.5707478%5D%2C%20%5B-35.8483333%2C%20150.1677778%5D%2C%20%5B-43.3904125%2C%20147.2606869%5D%2C%20%5B-43.6212171%2C%20146.794109%5D%2C%20%5B-27.9802365%2C%20153.30960401519883%5D%2C%20%5B-34.0575259%2C%20151.1523851%5D%2C%20%5B-28.4958914%2C%20153.547628%5D%2C%20%5B-33.8329686%2C%20151.2804991%5D%2C%20%5B-31.99740425%2C%20115.8725372894501%5D%2C%20%5B-33.798075%2C%20151.288662%5D%2C%20%5B-33.798075%2C%20151.288662%5D%2C%20%5B-27.8434564%2C%20153.41903%5D%2C%20%5B-37.9740012%2C%20144.6925079%5D%2C%20%5B-30.8943859%2C%20153.040677%5D%2C%20%5B-27.9802365%2C%20153.30960401519883%5D%2C%20%5B-27.9687807%2C%20153.4066696%5D%2C%20%5B-27.9687807%2C%20153.4066696%5D%2C%20%5B-27.38742905%2C%20153.23528286814974%5D%2C%20%5B-32.844154849999995%2C%20151.86571447066012%5D%2C%20%5B-32.844154849999995%2C%20151.86571447066012%5D%2C%20%5B-32.85106%2C%20151.96307%5D%2C%20%5B-12.4702113%2C%20130.84962034717023%5D%2C%20%5B-27.8434564%2C%20153.41903%5D%2C%20%5B-33.4443427%2C%20115.6036695%5D%2C%20%5B-32.73812475%2C%20134.6157553886796%5D%2C%20%5B-26.404115%2C%20153.10528818239123%5D%2C%20%5B-34.67633885%2C%20150.85455902996785%5D%2C%20%5B-28.0079624%2C%20153.431258%5D%2C%20%5B-27.9989899%2C%20153.42398%5D%2C%20%5B-33.976757%2C%20114.9859179%5D%2C%20%5B-31.9319845%2C%20115.9190544%5D%2C%20%5B-33.85591%2C%20151.25023%5D%2C%20%5B-33.8548157%2C%20151.2164539%5D%2C%20%5B-35.4437716%2C%20150.4011982%5D%2C%20%5B-28.1401272%2C%20153.428695%5D%2C%20%5B-28.6697473%2C%20153.62080870521265%5D%2C%20%5B-35.0715746%2C%20150.7828872947839%5D%2C%20%5B-42.9441366%2C%20147.3501651%5D%2C%20%5B-43.23873035%2C%20148.00284103094785%5D%2C%20%5B-36.7284498%2C%20149.9850271%5D%2C%20%5B-32.9179832%2C%20151.6519778%5D%2C%20%5B-33.43083205%2C%20151.4474949465191%5D%2C%20%5B-26.3920057%2C%20153.0391832%5D%2C%20%5B-33.86822585%2C%20151.2152386947114%5D%2C%20%5B-37.77807745%2C%20145.24381174268228%5D%2C%20%5B-23.5992025%2C%20150.95091106283175%5D%2C%20%5B-34.3164691%2C%20150.918932%5D%2C%20%5B-28.1141667%2C%20153.4692436%5D%2C%20%5B-34.998276000000004%2C%20136.15757962144255%5D%2C%20%5B-19.3054221%2C%20146.6929017%5D%2C%20%5B-32.9147339%2C%20151.7599966%5D%2C%20%5B-10.57864585%2C%20142.21892059042744%5D%2C%20%5B-10.57864585%2C%20142.21892059042744%5D%2C%20%5B-27.5215191%2C%20153.1845159%5D%2C%20%5B-32.7165733%2C%20152.1870489%5D%2C%20%5B-10.416667%2C%20142.166667%5D%2C%20%5B-19.2569391%2C%20146.8239537%5D%2C%20%5B-42.504035%2C%20147.9139308%5D%2C%20%5B-30.8797978%2C%20153.0721706%5D%2C%20%5B-30.88023%2C%20153.04882%5D%2C%20%5B-31.8773458%2C%20115.75158325035817%5D%2C%20%5B-16.7924771%2C%20145.6949167%5D%2C%20%5B-17.9329498%2C%20145.9272624%5D%2C%20%5B-41.15761075%2C%20146.2410604880605%5D%2C%20%5B-22.0960185%2C%20113.8876247%5D%2C%20%5B-28.181708%2C%20153.5469621%5D%2C%20%5B-38.2176813%2C%20141.7816196%5D%2C%20%5B-33.5177778%2C%20151.3094444%5D%2C%20%5B-30.4983386%2C%20153.0166289%5D%2C%20%5B-35.59716575%2C%20138.51337415192572%5D%2C%20%5B-31.9902778%2C%20152.5633333%5D%2C%20%5B-33.431813%2C%20151.4427676%5D%2C%20%5B-34.04244975%2C%20151.16314835349715%5D%2C%20%5B-38.3826241%2C%20142.4814191%5D%2C%20%5B-31.8490984%2C%20115.7554654%5D%2C%20%5B-34.1377093%2C%20151.1147646%5D%2C%20%5B-34.0012603%2C%20151.0464171%5D%2C%20%5B-43.1352285%2C%20147.6722073700658%5D%2C%20%5B-12.6324025%2C%20141.87545828951443%5D%2C%20%5B-27.4899247%2C%20153.0392426%5D%2C%20%5B-27.4869732%2C%20153.2393435%5D%2C%20%5B-33.8583992%2C%20151.1807353%5D%2C%20%5B-34.9451586%2C%20138.5091364%5D%2C%20%5B-37.9265062%2C%20144.9890551%5D%2C%20%5B-34.9451586%2C%20138.5091364%5D%2C%20%5B-38.36335%2C%20145.51155%5D%2C%20%5B14.7880147%2C%20121.0300477%5D%2C%20%5B-38.46983085%2C%20145.25864713704553%5D%2C%20%5B-33.6096795%2C%20151.3309449%5D%2C%20%5B-20.1559358%2C%20148.3668858%5D%2C%20%5B-20.2764129%2C%20149.03524635732282%5D%2C%20%5B-20.2534219%2C%20148.8755719%5D%2C%20%5B-38.2280117%2C%20144.3390979%5D%2C%20%5B-38.2280117%2C%20144.3390979%5D%2C%20%5B-34.4243941%2C%20150.89385%5D%2C%20%5B-32.1243417%2C%20115.76168546843785%5D%2C%20%5B-41.2024528%2C%20146.8162078%5D%2C%20%5B-30.1108288%2C%20153.2000074%5D%2C%20%5B-33.4880548%2C%20151.3274925%5D%2C%20%5B-42.42748%2C%20145.50797%5D%2C%20%5B-26.7568243%2C%20153.1256125%5D%2C%20%5B-33.8659903%2C%20151.2058096%5D%2C%20%5B-33.6395258%2C%20115.0259595%5D%2C%20%5B-24.7223973%2C%20152.1130013%5D%2C%20%5B-23.1348035%2C%20150.7436625%5D%2C%20%5B-42.3126079%2C%20148.2783505%5D%5D%2C%0A%20%20%20%20%20%20%20%20%20%20%20%20%20%20%20%20%7B%22blur%22%3A%2015%2C%20%22maxZoom%22%3A%2018%2C%20%22minOpacity%22%3A%200.5%2C%20%22radius%22%3A%2025%7D%0A%20%20%20%20%20%20%20%20%20%20%20%20%29.addTo%28map_c70e7ad39cdb44c69b9b32c03bf02367%29%3B%0A%20%20%20%20%20%20%20%20%0A%3C/script%3E onload=\"this.contentDocument.open();this.contentDocument.write(    decodeURIComponent(this.getAttribute('data-html')));this.contentDocument.close();\" allowfullscreen webkitallowfullscreen mozallowfullscreen></iframe></div></div>"
      ],
      "text/plain": [
       "<folium.folium.Map at 0x7f51344df110>"
      ]
     },
     "execution_count": 12,
     "metadata": {},
     "output_type": "execute_result"
    }
   ],
   "source": [
    "shark_map.add_child(plugins.HeatMap(coor))\n",
    "shark_map\n",
    "\n",
    "# https://python-visualization.github.io/folium/plugins.html"
   ]
  },
  {
   "cell_type": "code",
   "execution_count": null,
   "id": "3e95330b",
   "metadata": {
    "papermill": {
     "duration": 0.016711,
     "end_time": "2021-07-28T05:27:33.000061",
     "exception": false,
     "start_time": "2021-07-28T05:27:32.983350",
     "status": "completed"
    },
    "tags": []
   },
   "outputs": [],
   "source": []
  }
 ],
 "metadata": {
  "kernelspec": {
   "display_name": "Python 3",
   "language": "python",
   "name": "python3"
  },
  "language_info": {
   "codemirror_mode": {
    "name": "ipython",
    "version": 3
   },
   "file_extension": ".py",
   "mimetype": "text/x-python",
   "name": "python",
   "nbconvert_exporter": "python",
   "pygments_lexer": "ipython3",
   "version": "3.7.10"
  },
  "papermill": {
   "default_parameters": {},
   "duration": 9.649297,
   "end_time": "2021-07-28T05:27:33.626562",
   "environment_variables": {},
   "exception": null,
   "input_path": "__notebook__.ipynb",
   "output_path": "__notebook__.ipynb",
   "parameters": {},
   "start_time": "2021-07-28T05:27:23.977265",
   "version": "2.3.3"
  }
 },
 "nbformat": 4,
 "nbformat_minor": 5
}
